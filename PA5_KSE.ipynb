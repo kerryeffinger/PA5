{
 "cells": [
  {
   "cell_type": "markdown",
   "metadata": {},
   "source": [
    "## a"
   ]
  },
  {
   "cell_type": "code",
   "execution_count": 5,
   "metadata": {},
   "outputs": [],
   "source": [
    "spanishdict = {'movie':'película','magazine':'la revista','singer':'el cantante','heart':'el corazón',\n",
    "              'soulmate':'el alma gamela','friendship':'la amistad','marriage':'el matrimonio','angry':'enojado',\n",
    "              'anxious':'ansioso','happy':'contento','excited':'emocionado','proud':'orgulloso',\n",
    "              'city':'la ciudad','neighborhood':'el barrio','movie theater':'el cine','dance club':'la discoteca',\n",
    "              'subway':'el metro','skyscraper':'el rascacielos','street':'la calle','bridge':'el puente'}\n",
    "\n"
   ]
  },
  {
   "cell_type": "code",
   "execution_count": 122,
   "metadata": {},
   "outputs": [
    {
     "data": {
      "text/plain": [
       "{'movie': 'película',\n",
       " 'magazine': 'la revista',\n",
       " 'singer': 'el cantante',\n",
       " 'heart': 'el corazón',\n",
       " 'soulmate': 'el alma gamela',\n",
       " 'friendship': 'la amistad',\n",
       " 'marriage': 'el matrimonio',\n",
       " 'angry': 'enojado',\n",
       " 'anxious': 'ansioso',\n",
       " 'happy': 'contento',\n",
       " 'excited': 'emocionado',\n",
       " 'proud': 'orgulloso',\n",
       " 'city': 'la ciudad',\n",
       " 'neighborhood': 'el barrio',\n",
       " 'movie theater': 'el cine',\n",
       " 'dance club': 'la discoteca',\n",
       " 'subway': 'el metro',\n",
       " 'skyscraper': 'el rascacielos',\n",
       " 'street': 'la calle',\n",
       " 'bridge': 'el puente'}"
      ]
     },
     "execution_count": 122,
     "metadata": {},
     "output_type": "execute_result"
    }
   ],
   "source": [
    "spanishdict"
   ]
  },
  {
   "cell_type": "code",
   "execution_count": 120,
   "metadata": {},
   "outputs": [],
   "source": [
    "english = {english for english, spanish in spanishdict.items()}\n"
   ]
  },
  {
   "cell_type": "code",
   "execution_count": 123,
   "metadata": {},
   "outputs": [
    {
     "name": "stdout",
     "output_type": "stream",
     "text": [
      "Enter a word to translate from english to spanishsubway\n",
      "the spanish word for subway is dict_values(['película', 'la revista', 'el cantante', 'el corazón', 'el alma gamela', 'la amistad', 'el matrimonio', 'enojado', 'ansioso', 'contento', 'emocionado', 'orgulloso', 'la ciudad', 'el barrio', 'el cine', 'la discoteca', 'el metro', 'el rascacielos', 'la calle', 'el puente'])\n",
      "Enter a word to translate from english to spanishbridge\n"
     ]
    },
    {
     "data": {
      "text/plain": [
       "'bridge'"
      ]
     },
     "execution_count": 123,
     "metadata": {},
     "output_type": "execute_result"
    }
   ],
   "source": [
    "english = input('Enter a word to translate from english to spanish')\n",
    "if english in spanishdict.keys():\n",
    "    print(f'the spanish word for {english} is {spanish}') \n",
    "input('Enter a word to translate from english to spanish')    "
   ]
  },
  {
   "cell_type": "markdown",
   "metadata": {},
   "source": [
    "## b"
   ]
  },
  {
   "cell_type": "code",
   "execution_count": 14,
   "metadata": {},
   "outputs": [],
   "source": [
    "from prettytable import PrettyTable"
   ]
  },
  {
   "cell_type": "code",
   "execution_count": 20,
   "metadata": {},
   "outputs": [],
   "source": [
    "ddcharacter = {'Bard':[('Hit Die','d8'),('Primary Ability','Charisma'),('Saves','Dexterity & Charisma'),\n",
    "                       'An inspiring magician whose power echoes the music of creation'],\n",
    "              'Fighter':[('Hit Die','d10'),('Primary Ability','Strength or Dexterity'),('Saves','Strength & Constitution'),\n",
    "                       'A master of martial combat, skilled with a variety of weapons and armor'],\n",
    "              'Monk':[('Hit Die','d8'),('Primary Ability','Dexterity & Wisdom'),('Saves','Strength & Dexterity'),\n",
    "                       'A master of martial arts, harnessing the power of the body in pursuit of physical and spiritual perfection'],\n",
    "              'Paladin':[('Hit Die','d10'),('Primary Ability','Strength & Charisma'),('Saves','Wisdom & Charisma'),\n",
    "                       'A holy warrior bound to a sacred oath'],\n",
    "              'Ranger':[('Hit Die','d10'),('Primary Ability','Dexterity & Wisdom'),('Saves','Strength & Dexterity'),\n",
    "                       'A warrior who combats threats on the edges of civilization'],\n",
    "              'Rogue':[('Hit Die','d8'),('Primary Ability','Dexterity'),('Saves','Dexterity & Intelligence'),\n",
    "                       'A scoundrel who uses stealth and trickery to overcome obstacles and enemies']}"
   ]
  },
  {
   "cell_type": "code",
   "execution_count": 60,
   "metadata": {},
   "outputs": [],
   "source": [
    "player = {player for player, info in ddcharacter.items()}"
   ]
  },
  {
   "cell_type": "code",
   "execution_count": 127,
   "metadata": {},
   "outputs": [
    {
     "name": "stdout",
     "output_type": "stream",
     "text": [
      "Enter the player you would like to look up. Enter zero (0) to quit. Bard\n",
      "An inspiring magician whose power echoes the music of creation\n",
      "+---------+-----------------+----------------------+\n",
      "| Hit Die | Primary Ability |        Saves         |\n",
      "+---------+-----------------+----------------------+\n",
      "|    d8   |     Charisma    | Dexterity & Charisma |\n",
      "+---------+-----------------+----------------------+\n",
      "Enter the player you would like to look up. Enter zero (0) to quit. Monk\n",
      "An inspiring magician whose power echoes the music of creation\n",
      "+---------+-----------------+----------------------+\n",
      "| Hit Die | Primary Ability |        Saves         |\n",
      "+---------+-----------------+----------------------+\n",
      "|    d8   |     Charisma    | Dexterity & Charisma |\n",
      "+---------+-----------------+----------------------+\n",
      "Enter the player you would like to look up. Enter zero (0) to quit. Monk\n",
      "An inspiring magician whose power echoes the music of creation\n",
      "+---------+-----------------+----------------------+\n",
      "| Hit Die | Primary Ability |        Saves         |\n",
      "+---------+-----------------+----------------------+\n",
      "|    d8   |     Charisma    | Dexterity & Charisma |\n",
      "+---------+-----------------+----------------------+\n",
      "Enter the player you would like to look up. Enter zero (0) to quit. 0\n",
      "An inspiring magician whose power echoes the music of creation\n",
      "+---------+-----------------+----------------------+\n",
      "| Hit Die | Primary Ability |        Saves         |\n",
      "+---------+-----------------+----------------------+\n",
      "|    d8   |     Charisma    | Dexterity & Charisma |\n",
      "+---------+-----------------+----------------------+\n",
      "Enter the player you would like to look up. Enter zero (0) to quit. 0\n",
      "An inspiring magician whose power echoes the music of creation\n",
      "+---------+-----------------+----------------------+\n",
      "| Hit Die | Primary Ability |        Saves         |\n",
      "+---------+-----------------+----------------------+\n",
      "|    d8   |     Charisma    | Dexterity & Charisma |\n",
      "+---------+-----------------+----------------------+\n"
     ]
    },
    {
     "ename": "KeyboardInterrupt",
     "evalue": "Interrupted by user",
     "output_type": "error",
     "traceback": [
      "\u001b[0;31m---------------------------------------------------------------------------\u001b[0m",
      "\u001b[0;31mKeyboardInterrupt\u001b[0m                         Traceback (most recent call last)",
      "\u001b[0;32m<ipython-input-127-43674022be91>\u001b[0m in \u001b[0;36m<module>\u001b[0;34m\u001b[0m\n\u001b[1;32m     13\u001b[0m         \u001b[0mprint\u001b[0m\u001b[0;34m(\u001b[0m\u001b[0;34m'Player class not found in records'\u001b[0m\u001b[0;34m)\u001b[0m\u001b[0;34m\u001b[0m\u001b[0;34m\u001b[0m\u001b[0m\n\u001b[1;32m     14\u001b[0m \u001b[0;34m\u001b[0m\u001b[0m\n\u001b[0;32m---> 15\u001b[0;31m     \u001b[0minput\u001b[0m\u001b[0;34m(\u001b[0m\u001b[0;34m'Enter the player you would like to look up. Enter zero (0) to quit. '\u001b[0m\u001b[0;34m)\u001b[0m\u001b[0;34m\u001b[0m\u001b[0;34m\u001b[0m\u001b[0m\n\u001b[0m\u001b[1;32m     16\u001b[0m \u001b[0;34m\u001b[0m\u001b[0m\n",
      "\u001b[0;32m/opt/anaconda3/lib/python3.8/site-packages/ipykernel/kernelbase.py\u001b[0m in \u001b[0;36mraw_input\u001b[0;34m(self, prompt)\u001b[0m\n\u001b[1;32m    858\u001b[0m                 \u001b[0;34m\"raw_input was called, but this frontend does not support input requests.\"\u001b[0m\u001b[0;34m\u001b[0m\u001b[0;34m\u001b[0m\u001b[0m\n\u001b[1;32m    859\u001b[0m             )\n\u001b[0;32m--> 860\u001b[0;31m         return self._input_request(str(prompt),\n\u001b[0m\u001b[1;32m    861\u001b[0m             \u001b[0mself\u001b[0m\u001b[0;34m.\u001b[0m\u001b[0m_parent_ident\u001b[0m\u001b[0;34m,\u001b[0m\u001b[0;34m\u001b[0m\u001b[0;34m\u001b[0m\u001b[0m\n\u001b[1;32m    862\u001b[0m             \u001b[0mself\u001b[0m\u001b[0;34m.\u001b[0m\u001b[0m_parent_header\u001b[0m\u001b[0;34m,\u001b[0m\u001b[0;34m\u001b[0m\u001b[0;34m\u001b[0m\u001b[0m\n",
      "\u001b[0;32m/opt/anaconda3/lib/python3.8/site-packages/ipykernel/kernelbase.py\u001b[0m in \u001b[0;36m_input_request\u001b[0;34m(self, prompt, ident, parent, password)\u001b[0m\n\u001b[1;32m    902\u001b[0m             \u001b[0;32mexcept\u001b[0m \u001b[0mKeyboardInterrupt\u001b[0m\u001b[0;34m:\u001b[0m\u001b[0;34m\u001b[0m\u001b[0;34m\u001b[0m\u001b[0m\n\u001b[1;32m    903\u001b[0m                 \u001b[0;31m# re-raise KeyboardInterrupt, to truncate traceback\u001b[0m\u001b[0;34m\u001b[0m\u001b[0;34m\u001b[0m\u001b[0;34m\u001b[0m\u001b[0m\n\u001b[0;32m--> 904\u001b[0;31m                 \u001b[0;32mraise\u001b[0m \u001b[0mKeyboardInterrupt\u001b[0m\u001b[0;34m(\u001b[0m\u001b[0;34m\"Interrupted by user\"\u001b[0m\u001b[0;34m)\u001b[0m \u001b[0;32mfrom\u001b[0m \u001b[0;32mNone\u001b[0m\u001b[0;34m\u001b[0m\u001b[0;34m\u001b[0m\u001b[0m\n\u001b[0m\u001b[1;32m    905\u001b[0m             \u001b[0;32mexcept\u001b[0m \u001b[0mException\u001b[0m \u001b[0;32mas\u001b[0m \u001b[0me\u001b[0m\u001b[0;34m:\u001b[0m\u001b[0;34m\u001b[0m\u001b[0;34m\u001b[0m\u001b[0m\n\u001b[1;32m    906\u001b[0m                 \u001b[0mself\u001b[0m\u001b[0;34m.\u001b[0m\u001b[0mlog\u001b[0m\u001b[0;34m.\u001b[0m\u001b[0mwarning\u001b[0m\u001b[0;34m(\u001b[0m\u001b[0;34m\"Invalid Message:\"\u001b[0m\u001b[0;34m,\u001b[0m \u001b[0mexc_info\u001b[0m\u001b[0;34m=\u001b[0m\u001b[0;32mTrue\u001b[0m\u001b[0;34m)\u001b[0m\u001b[0;34m\u001b[0m\u001b[0;34m\u001b[0m\u001b[0m\n",
      "\u001b[0;31mKeyboardInterrupt\u001b[0m: Interrupted by user"
     ]
    }
   ],
   "source": [
    "def print_player_data(player):\n",
    "    p = PrettyTable()\n",
    "    p.field_names = ['Hit Die','Primary Ability','Saves']\n",
    "    p.add_row([ddcharacter[player][0][1],ddcharacter[player][1][1],ddcharacter[player][2][1]])\n",
    "    print(ddcharacter[player][3])\n",
    "    print(p)\n",
    "\n",
    "player = input('Enter the player you would like to look up. Enter zero (0) to quit. ')\n",
    "while player != 0:\n",
    "    if player in ddcharacter:\n",
    "        print_player_data(player)\n",
    "    else:\n",
    "        print('Player class not found in records')\n",
    "        \n",
    "    input('Enter the player you would like to look up. Enter zero (0) to quit. ')    \n",
    "\n"
   ]
  },
  {
   "cell_type": "code",
   "execution_count": 71,
   "metadata": {},
   "outputs": [
    {
     "name": "stdout",
     "output_type": "stream",
     "text": [
      "A scoundrel who uses stealth and trickery to overcome obstacles and enemies\n",
      "+---------+-----------------+--------------------------+\n",
      "| Hit Die | Primary Ability |          Saves           |\n",
      "+---------+-----------------+--------------------------+\n",
      "|    d8   |    Dexterity    | Dexterity & Intelligence |\n",
      "+---------+-----------------+--------------------------+\n"
     ]
    }
   ],
   "source": [
    "print_player_data('Rogue')"
   ]
  }
 ],
 "metadata": {
  "kernelspec": {
   "display_name": "Python 3",
   "language": "python",
   "name": "python3"
  },
  "language_info": {
   "codemirror_mode": {
    "name": "ipython",
    "version": 3
   },
   "file_extension": ".py",
   "mimetype": "text/x-python",
   "name": "python",
   "nbconvert_exporter": "python",
   "pygments_lexer": "ipython3",
   "version": "3.8.3"
  }
 },
 "nbformat": 4,
 "nbformat_minor": 4
}
